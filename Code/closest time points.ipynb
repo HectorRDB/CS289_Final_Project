{
 "cells": [
  {
   "cell_type": "code",
   "execution_count": 66,
   "metadata": {
    "collapsed": true
   },
   "outputs": [],
   "source": [
    "def create_closest(points, t):\n",
    "    # Returns a DataFrame containing, for each point,\n",
    "    # the amount of dropouts in the 2*t closest points timewise\n",
    "    # (t points before and t points after)\n",
    "\n",
    "    n, m = points.shape\n",
    "    #closest_time = np.zeros((n, m))\n",
    "    closest_time = points.copy()\n",
    "    for i in range(n):\n",
    "        for j in range(m):\n",
    "            # extreme cases: instead of taking points before and after,\n",
    "            # we take the symmetrical points of one half\n",
    "            if j <= t-1:\n",
    "                for k in range(t):\n",
    "                    closest_time[i, j] += 2*points[i, j+k+1]\n",
    "            elif m-1-j <= t-1:\n",
    "                for k in range(t):\n",
    "                    closest_time[i, j] += 2*points[i, j-k-1]\n",
    "            # normal case\n",
    "            else:\n",
    "                for k in range(t):\n",
    "                    closest_time[i, j] += points[i, j+k+1] + points[i, j-k-1]\n",
    "    return closest_time"
   ]
  },
  {
   "cell_type": "code",
   "execution_count": 67,
   "metadata": {
    "collapsed": true
   },
   "outputs": [],
   "source": [
    "import pandas as pd\n",
    "import numpy as np"
   ]
  },
  {
   "cell_type": "code",
   "execution_count": 72,
   "metadata": {},
   "outputs": [],
   "source": [
    "df = pd.read_csv('synthetic_data.csv', index_col=0)\n",
    "points = df.values"
   ]
  },
  {
   "cell_type": "code",
   "execution_count": 73,
   "metadata": {
    "collapsed": true
   },
   "outputs": [],
   "source": [
    "closest_array = create_closest(points, 5)"
   ]
  },
  {
   "cell_type": "code",
   "execution_count": 74,
   "metadata": {
    "collapsed": true
   },
   "outputs": [],
   "source": [
    "closest = pd.DataFrame(closest_array)"
   ]
  },
  {
   "cell_type": "code",
   "execution_count": 75,
   "metadata": {
    "scrolled": true
   },
   "outputs": [],
   "source": [
    "closest.to_csv(('closest.csv'))"
   ]
  }
 ],
 "metadata": {
  "kernelspec": {
   "display_name": "Python 3",
   "language": "python",
   "name": "python3"
  },
  "language_info": {
   "codemirror_mode": {
    "name": "ipython",
    "version": 3
   },
   "file_extension": ".py",
   "mimetype": "text/x-python",
   "name": "python",
   "nbconvert_exporter": "python",
   "pygments_lexer": "ipython3",
   "version": "3.6.1"
  }
 },
 "nbformat": 4,
 "nbformat_minor": 2
}
